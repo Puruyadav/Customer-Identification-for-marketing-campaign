{
 "cells": [
  {
   "cell_type": "markdown",
   "metadata": {},
   "source": [
    "<h1> Project Definition</h1>"
   ]
  },
  {
   "cell_type": "markdown",
   "metadata": {},
   "source": [
    "<h3> Overview </h3>\n",
    "\n",
    "Starbucks is a american coffeehouse company, which sends advertisement/offers to their customers via various channels. Out of every 100 adverstisement, there is 52% coversion rate to offer getting completed. So company is not able to reach to right audience via their adverstisent. Company wants to increase this conversion rate to 80%, so that company could \n",
    "\n",
    "* save their adverstisemnt cost.\n",
    "* do cost-benefit analysis for an offer.\n",
    "* Knowing customers helps in launching newer offer\n",
    "* Save marketing cost to identify the right segment. "
   ]
  },
  {
   "cell_type": "markdown",
   "metadata": {},
   "source": [
    "<h3> Statement</h3>\n",
    "\n",
    "Suppose if a offer is sent to customer, Is it possible to predict whether customer would complete offer or not? This right identification of audience can help us to optimize the market metrics. "
   ]
  },
  {
   "cell_type": "markdown",
   "metadata": {},
   "source": [
    "<h1> Metrics </h1>\n",
    "\n",
    "In this predictive modelling exercise, Our objective is to know wheter customer would complete it or not. In this case, Our objective to achieve hight precision and high recall, so f1 socre is used by giving equal weight to both the objective. This is going to be our metrics of evaluation. "
   ]
  },
  {
   "cell_type": "code",
   "execution_count": null,
   "metadata": {},
   "outputs": [],
   "source": []
  }
 ],
 "metadata": {
  "kernelspec": {
   "display_name": "Python 3",
   "language": "python",
   "name": "python3"
  },
  "language_info": {
   "codemirror_mode": {
    "name": "ipython",
    "version": 3
   },
   "file_extension": ".py",
   "mimetype": "text/x-python",
   "name": "python",
   "nbconvert_exporter": "python",
   "pygments_lexer": "ipython3",
   "version": "3.6.5"
  }
 },
 "nbformat": 4,
 "nbformat_minor": 2
}
