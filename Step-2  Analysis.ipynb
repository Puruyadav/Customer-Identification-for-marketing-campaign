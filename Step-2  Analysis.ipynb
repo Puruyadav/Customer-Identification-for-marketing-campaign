{
 "cells": [
  {
   "cell_type": "markdown",
   "metadata": {},
   "source": [
    "<h1> Data used</h1> \n",
    "Simulated data, which mimics the Starbucks actual data, has been used to solve this capstone project which is in three files given by Udacity.\n"
   ]
  },
  {
   "cell_type": "markdown",
   "metadata": {},
   "source": [
    "<h1> Features used to solve the problem:</h1>\n",
    "      \n",
    "      1) Attributes related to Customers\n",
    "           a) Gender\n",
    "           b) age\n",
    "           c) income\n",
    "           d) Year in which he was acquired\n",
    "           e) month in which he was acquired\n",
    "      2)  Attributes related to offer\n",
    "           a) channel: web,social media, mobile,\n",
    "           b) offer_type\n",
    "           c) duration\n",
    "           d) difficulty\n",
    "           e) reward\n",
    "           f) Day(weekday or weekend) at which offer is sent \n",
    "           g) Month at which offer is sent\n",
    "      3) Attributes related to historical transaction\n",
    "           a) total reward per total amount\n",
    "\t       b) Total amount spent on website per month\n",
    "\t       c) Total reward got from website per month\n",
    "\t       d) Total viewed offer per Total sent offer\n",
    "\t       e) Total completed offer per Total sent offer\n",
    "\t       f) Total transaction made per month\n",
    "          \n"
   ]
  },
  {
   "cell_type": "code",
   "execution_count": 1,
   "metadata": {},
   "outputs": [],
   "source": [
    "import pandas as pd\n",
    "import numpy as np\n",
    "import math\n",
    "import json\n",
    "import datetime as dt\n",
    "% matplotlib inline"
   ]
  },
  {
   "cell_type": "code",
   "execution_count": 2,
   "metadata": {},
   "outputs": [],
   "source": [
    "portfolio = pd.read_json('portfolio.json', orient='records', lines=True)\n",
    "profile = pd.read_json('profile.json', orient='records', lines=True)\n",
    "transcript = pd.read_json('transcript.json', orient='records', lines=True) "
   ]
  },
  {
   "cell_type": "code",
   "execution_count": 3,
   "metadata": {},
   "outputs": [],
   "source": [
    "#Let's clean the transcript file\n",
    "transcript['offer_id'] = transcript['value'].apply(lambda x: x['offer id'] if 'offer id' in x.keys() else x['offer_id'] if 'offer_id' in x.keys()  else None)\n",
    "transcript['amount'] =  transcript['value'].apply(lambda x: x['amount'] if 'amount' in x.keys() else None)\n",
    "transcript['reward'] = transcript['value'].apply(lambda x: x['reward'] if 'reward' in x.keys() else None)\n",
    "transcript = transcript[['event','time','person','offer_id','amount','reward']].copy(deep =True)"
   ]
  },
  {
   "cell_type": "code",
   "execution_count": 4,
   "metadata": {},
   "outputs": [],
   "source": [
    "def f_to_check_number_historical_count_data_related_to_person(x):\n",
    "    \n",
    "    person = x['person']\n",
    "    \n",
    "    time = x['time']\n",
    "    \n",
    "    offer = x['offer_id']\n",
    "    \n",
    "    duration = x['duration']*24\n",
    "    \n",
    "    time_ = time + duration # time by which offer is valid\n",
    "    \n",
    "    df = (transcript.query(\"person == @person\").query(\"time < @time\")).copy(deep=True)\n",
    "    \n",
    "    amount = df.amount.sum()\n",
    "    \n",
    "    reward = df.reward.sum()\n",
    "        \n",
    "    behaviour = dict(df.event.value_counts())\n",
    "    \n",
    "    for i in ['transaction', 'offer received', 'offer viewed', 'offer completed']:\n",
    "        \n",
    "        if i not in behaviour.keys():\n",
    "            \n",
    "            behaviour[i] = None\n",
    "    \n",
    "    df2 = list((transcript.query(\"person == @person\").query(\"@time<time<=@time_ \")).query(\"offer_id ==@offer\").event.unique())\n",
    "    \n",
    "    if \"offer completed\" in df2:\n",
    "        \n",
    "        offer_completed = 1\n",
    "    \n",
    "    else:\n",
    "        offer_completed = 0\n",
    "    \n",
    "    return pd.Series(  \n",
    "                      {\"Total_amount\":amount,\n",
    "                      'Total_reward':reward,\n",
    "                      \"Total_view\":behaviour['offer viewed'],\n",
    "                      \"total_transaction_made\":behaviour['transaction'],\n",
    "                      \"Total_offer_received\":behaviour['offer received'],\n",
    "                      \"offer completed\":behaviour[\"offer completed\"],\n",
    "                      \"is_offer_completed\": offer_completed\n",
    "                       }\n",
    "        \n",
    "                     )"
   ]
  },
  {
   "cell_type": "code",
   "execution_count": 5,
   "metadata": {},
   "outputs": [],
   "source": [
    "received_event = ((transcript[['person','time','offer_id','event']].merge(portfolio.rename(columns = {\"id\":\"offer_id\"}),on = \"offer_id\",how = \"left\")).query(\"event == 'offer received' \").query(\"offer_type != 'informational'\").copy(deep =True)[['event', 'time', 'person', 'offer_id','channels','difficulty','duration','offer_type','reward']])"
   ]
  },
  {
   "cell_type": "code",
   "execution_count": 7,
   "metadata": {},
   "outputs": [],
   "source": [
    "df = pd.concat([received_event,received_event.apply(lambda x: f_to_check_number_historical_count_data_related_to_person(x),axis = 1).fillna(0)],axis = 1) "
   ]
  },
  {
   "cell_type": "code",
   "execution_count": 8,
   "metadata": {},
   "outputs": [],
   "source": [
    "for i in ['event','offer_id']:\n",
    "    del df[i]"
   ]
  },
  {
   "cell_type": "code",
   "execution_count": 9,
   "metadata": {},
   "outputs": [],
   "source": [
    "df.rename(columns= {\"person\":\"person_id\"},inplace = True)"
   ]
  },
  {
   "cell_type": "code",
   "execution_count": 10,
   "metadata": {},
   "outputs": [],
   "source": [
    "profile.rename(columns= {\"id\":\"person_id\"},inplace = True)"
   ]
  },
  {
   "cell_type": "code",
   "execution_count": 11,
   "metadata": {},
   "outputs": [],
   "source": [
    "df = df.merge(profile,how = \"left\",on = \"person_id\")"
   ]
  },
  {
   "cell_type": "code",
   "execution_count": 12,
   "metadata": {},
   "outputs": [],
   "source": [
    "del df['person_id']"
   ]
  },
  {
   "cell_type": "code",
   "execution_count": 13,
   "metadata": {},
   "outputs": [],
   "source": [
    "df[\"Year\"] = df[\"became_member_on\"].apply(lambda x: str(dt.datetime.strptime(str(x),\"%Y%m%d\").year) )"
   ]
  },
  {
   "cell_type": "code",
   "execution_count": 14,
   "metadata": {},
   "outputs": [],
   "source": [
    "df[\"month\"] = df[\"became_member_on\"].apply(lambda x: str(dt.datetime.strptime(str(x),\"%Y%m%d\").month) )"
   ]
  },
  {
   "cell_type": "code",
   "execution_count": 15,
   "metadata": {},
   "outputs": [],
   "source": [
    "df['became_member_on'] = df[\"became_member_on\"].apply(lambda x: dt.datetime.strptime(str(x),\"%Y%m%d\") )"
   ]
  },
  {
   "cell_type": "code",
   "execution_count": 16,
   "metadata": {},
   "outputs": [],
   "source": [
    "df['new_time'] = df.apply(lambda x : x['became_member_on'] + dt.timedelta(hours = x['time']),axis = 1)"
   ]
  },
  {
   "cell_type": "code",
   "execution_count": 17,
   "metadata": {},
   "outputs": [],
   "source": [
    "df[\"year_in_which_offer_is_made\"]= df['new_time'].apply(lambda x : x.year)"
   ]
  },
  {
   "cell_type": "code",
   "execution_count": 18,
   "metadata": {},
   "outputs": [],
   "source": [
    "df[\"week_day_in_which_offer_is_made\"]= df['new_time'].apply(lambda x : x.weekday())"
   ]
  },
  {
   "cell_type": "code",
   "execution_count": 20,
   "metadata": {},
   "outputs": [],
   "source": [
    "df[\"month_in_which_offer_is_made\"]= df['new_time'].apply(lambda x : x.month)"
   ]
  },
  {
   "cell_type": "code",
   "execution_count": 21,
   "metadata": {},
   "outputs": [],
   "source": [
    "df['web'] = df[\"channels\"].apply(lambda x : 1 if \"web\" in x else 0)"
   ]
  },
  {
   "cell_type": "code",
   "execution_count": 22,
   "metadata": {},
   "outputs": [],
   "source": [
    "df['email'] = df[\"channels\"].apply(lambda x : 1 if \"email\" in x else 0)"
   ]
  },
  {
   "cell_type": "code",
   "execution_count": 23,
   "metadata": {},
   "outputs": [],
   "source": [
    "df['mobile'] = df[\"channels\"].apply(lambda x : 1 if \"mobile\" in x else 0)"
   ]
  },
  {
   "cell_type": "code",
   "execution_count": 24,
   "metadata": {},
   "outputs": [],
   "source": [
    "df['social'] = df[\"channels\"].apply(lambda x : 1 if \"social\" in x else 0)"
   ]
  },
  {
   "cell_type": "code",
   "execution_count": 25,
   "metadata": {},
   "outputs": [],
   "source": [
    "del df['channels']"
   ]
  },
  {
   "cell_type": "code",
   "execution_count": 26,
   "metadata": {},
   "outputs": [],
   "source": [
    "df['offer_type'] = df['offer_type'].apply(lambda x: 1 if x == \"discount\" else 0 )"
   ]
  },
  {
   "cell_type": "code",
   "execution_count": 28,
   "metadata": {},
   "outputs": [],
   "source": [
    "df.to_csv(\"data_for_EDA.csv\")"
   ]
  },
  {
   "cell_type": "code",
   "execution_count": null,
   "metadata": {},
   "outputs": [],
   "source": []
  }
 ],
 "metadata": {
  "kernelspec": {
   "display_name": "Python 3",
   "language": "python",
   "name": "python3"
  },
  "language_info": {
   "codemirror_mode": {
    "name": "ipython",
    "version": 3
   },
   "file_extension": ".py",
   "mimetype": "text/x-python",
   "name": "python",
   "nbconvert_exporter": "python",
   "pygments_lexer": "ipython3",
   "version": "3.6.5"
  }
 },
 "nbformat": 4,
 "nbformat_minor": 2
}
